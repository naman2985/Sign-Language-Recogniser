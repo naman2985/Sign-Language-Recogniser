{
 "cells": [
  {
   "cell_type": "code",
   "execution_count": 1,
   "metadata": {},
   "outputs": [],
   "source": [
    "import cv2 as cv\n",
    "import glob\n",
    "import numpy as np\n",
    "import os\n",
    "import uuid\n",
    "import matplotlib.pyplot as plt\n",
    "import random"
   ]
  },
  {
   "cell_type": "code",
   "execution_count": null,
   "metadata": {},
   "outputs": [],
   "source": [
    "path = 'Signs/All-Signs'\n",
    "labels = ['Call me','Good job','Good luck','Ok','Victory']"
   ]
  },
  {
   "cell_type": "code",
   "execution_count": null,
   "metadata": {},
   "outputs": [],
   "source": [
    "# naming each image so that it is accessible later\n",
    "for label in labels:    \n",
    "    for image in glob.glob('Signs/'+label+'2/*.jpg'):\n",
    "        temp = cv.imread(image)\n",
    "        temp = cv.resize(temp,(250,250))\n",
    "        cv.imwrite(path+f'/{str(uuid.uuid1())[:8]}{label}.jpg',temp)"
   ]
  },
  {
   "cell_type": "code",
   "execution_count": null,
   "metadata": {},
   "outputs": [],
   "source": [
    "name = []\n",
    "for image in glob.glob(path+'/*.jpg'):\n",
    "    name.append(image)"
   ]
  },
  {
   "cell_type": "code",
   "execution_count": null,
   "metadata": {},
   "outputs": [],
   "source": [
    "name = np.array(name)\n",
    "np.random.shuffle(name)"
   ]
  },
  {
   "cell_type": "code",
   "execution_count": null,
   "metadata": {},
   "outputs": [],
   "source": [
    "img = []\n",
    "lbl = []"
   ]
  },
  {
   "cell_type": "code",
   "execution_count": null,
   "metadata": {},
   "outputs": [],
   "source": [
    "#storing these images into img and lbl arrays\n",
    "l = len(path)+9\n",
    "for image in name:\n",
    "    img.append(cv.cvtColor(cv.imread(image),cv.COLOR_BGR2RGB))\n",
    "    lbl.append(image[l:-4])"
   ]
  },
  {
   "cell_type": "code",
   "execution_count": null,
   "metadata": {},
   "outputs": [],
   "source": [
    "# saving the array for later use\n",
    "np.save('Signs/Labels',lbl)\n",
    "np.save('Signs/Images',img)"
   ]
  }
 ],
 "metadata": {
  "kernelspec": {
   "display_name": "Python 3",
   "language": "python",
   "name": "python3"
  },
  "language_info": {
   "codemirror_mode": {
    "name": "ipython",
    "version": 3
   },
   "file_extension": ".py",
   "mimetype": "text/x-python",
   "name": "python",
   "nbconvert_exporter": "python",
   "pygments_lexer": "ipython3",
   "version": "3.8.3"
  }
 },
 "nbformat": 4,
 "nbformat_minor": 4
}
